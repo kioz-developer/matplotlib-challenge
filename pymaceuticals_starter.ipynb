{
 "cells": [
  {
   "cell_type": "markdown",
   "metadata": {},
   "source": [
    "## Observations and Insights "
   ]
  },
  {
   "cell_type": "markdown",
   "metadata": {},
   "source": []
  },
  {
   "cell_type": "code",
   "execution_count": 199,
   "metadata": {},
   "outputs": [
    {
     "data": {
      "text/html": [
       "<div>\n",
       "<style scoped>\n",
       "    .dataframe tbody tr th:only-of-type {\n",
       "        vertical-align: middle;\n",
       "    }\n",
       "\n",
       "    .dataframe tbody tr th {\n",
       "        vertical-align: top;\n",
       "    }\n",
       "\n",
       "    .dataframe thead th {\n",
       "        text-align: right;\n",
       "    }\n",
       "</style>\n",
       "<table border=\"1\" class=\"dataframe\">\n",
       "  <thead>\n",
       "    <tr style=\"text-align: right;\">\n",
       "      <th></th>\n",
       "      <th>Mouse ID</th>\n",
       "      <th>Drug Regimen</th>\n",
       "      <th>Sex</th>\n",
       "      <th>Age_months</th>\n",
       "      <th>Weight (g)</th>\n",
       "      <th>Timepoint</th>\n",
       "      <th>Tumor Volume (mm3)</th>\n",
       "      <th>Metastatic Sites</th>\n",
       "    </tr>\n",
       "  </thead>\n",
       "  <tbody>\n",
       "    <tr>\n",
       "      <th>0</th>\n",
       "      <td>k403</td>\n",
       "      <td>Ramicane</td>\n",
       "      <td>Male</td>\n",
       "      <td>21</td>\n",
       "      <td>16</td>\n",
       "      <td>0</td>\n",
       "      <td>45.000000</td>\n",
       "      <td>0</td>\n",
       "    </tr>\n",
       "    <tr>\n",
       "      <th>1</th>\n",
       "      <td>k403</td>\n",
       "      <td>Ramicane</td>\n",
       "      <td>Male</td>\n",
       "      <td>21</td>\n",
       "      <td>16</td>\n",
       "      <td>5</td>\n",
       "      <td>38.825898</td>\n",
       "      <td>0</td>\n",
       "    </tr>\n",
       "    <tr>\n",
       "      <th>2</th>\n",
       "      <td>k403</td>\n",
       "      <td>Ramicane</td>\n",
       "      <td>Male</td>\n",
       "      <td>21</td>\n",
       "      <td>16</td>\n",
       "      <td>10</td>\n",
       "      <td>35.014271</td>\n",
       "      <td>1</td>\n",
       "    </tr>\n",
       "    <tr>\n",
       "      <th>3</th>\n",
       "      <td>k403</td>\n",
       "      <td>Ramicane</td>\n",
       "      <td>Male</td>\n",
       "      <td>21</td>\n",
       "      <td>16</td>\n",
       "      <td>15</td>\n",
       "      <td>34.223992</td>\n",
       "      <td>1</td>\n",
       "    </tr>\n",
       "    <tr>\n",
       "      <th>4</th>\n",
       "      <td>k403</td>\n",
       "      <td>Ramicane</td>\n",
       "      <td>Male</td>\n",
       "      <td>21</td>\n",
       "      <td>16</td>\n",
       "      <td>20</td>\n",
       "      <td>32.997729</td>\n",
       "      <td>1</td>\n",
       "    </tr>\n",
       "  </tbody>\n",
       "</table>\n",
       "</div>"
      ],
      "text/plain": [
       "  Mouse ID Drug Regimen   Sex  Age_months  Weight (g)  Timepoint  \\\n",
       "0     k403     Ramicane  Male          21          16          0   \n",
       "1     k403     Ramicane  Male          21          16          5   \n",
       "2     k403     Ramicane  Male          21          16         10   \n",
       "3     k403     Ramicane  Male          21          16         15   \n",
       "4     k403     Ramicane  Male          21          16         20   \n",
       "\n",
       "   Tumor Volume (mm3)  Metastatic Sites  \n",
       "0           45.000000                 0  \n",
       "1           38.825898                 0  \n",
       "2           35.014271                 1  \n",
       "3           34.223992                 1  \n",
       "4           32.997729                 1  "
      ]
     },
     "execution_count": 199,
     "metadata": {},
     "output_type": "execute_result"
    }
   ],
   "source": [
    "# Dependencies and Setup\n",
    "import matplotlib.pyplot as plt\n",
    "import pandas as pd\n",
    "import scipy.stats as sts\n",
    "\n",
    "# Study data files\n",
    "mouse_metadata_path = \"data/Mouse_metadata.csv\"\n",
    "study_results_path = \"data/Study_results.csv\"\n",
    "\n",
    "# Read the mouse data and the study results\n",
    "mouse_metadata = pd.read_csv(mouse_metadata_path)\n",
    "study_results = pd.read_csv(study_results_path)\n",
    "\n",
    "# Combine the data into a single dataset\n",
    "combined_data = mouse_metadata.merge(study_results, on=\"Mouse ID\")\n",
    "\n",
    "# Display the data table for preview\n",
    "combined_data.head()\n"
   ]
  },
  {
   "cell_type": "code",
   "execution_count": 4,
   "metadata": {},
   "outputs": [
    {
     "name": "stdout",
     "output_type": "stream",
     "text": [
      "Total number of mice: 249\n"
     ]
    }
   ],
   "source": [
    "# Checking the number of mice.\n",
    "total_mice = len(combined_data.groupby([\"Mouse ID\"]))\n",
    "print(f\"Total number of mice: {total_mice}\")"
   ]
  },
  {
   "cell_type": "code",
   "execution_count": 79,
   "metadata": {},
   "outputs": [
    {
     "data": {
      "text/html": [
       "<div>\n",
       "<style scoped>\n",
       "    .dataframe tbody tr th:only-of-type {\n",
       "        vertical-align: middle;\n",
       "    }\n",
       "\n",
       "    .dataframe tbody tr th {\n",
       "        vertical-align: top;\n",
       "    }\n",
       "\n",
       "    .dataframe thead th {\n",
       "        text-align: right;\n",
       "    }\n",
       "</style>\n",
       "<table border=\"1\" class=\"dataframe\">\n",
       "  <thead>\n",
       "    <tr style=\"text-align: right;\">\n",
       "      <th></th>\n",
       "      <th>Mouse ID</th>\n",
       "      <th>Timepoint</th>\n",
       "      <th>count</th>\n",
       "    </tr>\n",
       "  </thead>\n",
       "  <tbody>\n",
       "    <tr>\n",
       "      <th>0</th>\n",
       "      <td>g989</td>\n",
       "      <td>0</td>\n",
       "      <td>2</td>\n",
       "    </tr>\n",
       "    <tr>\n",
       "      <th>1</th>\n",
       "      <td>g989</td>\n",
       "      <td>5</td>\n",
       "      <td>2</td>\n",
       "    </tr>\n",
       "    <tr>\n",
       "      <th>2</th>\n",
       "      <td>g989</td>\n",
       "      <td>10</td>\n",
       "      <td>2</td>\n",
       "    </tr>\n",
       "    <tr>\n",
       "      <th>3</th>\n",
       "      <td>g989</td>\n",
       "      <td>15</td>\n",
       "      <td>2</td>\n",
       "    </tr>\n",
       "    <tr>\n",
       "      <th>4</th>\n",
       "      <td>g989</td>\n",
       "      <td>20</td>\n",
       "      <td>2</td>\n",
       "    </tr>\n",
       "  </tbody>\n",
       "</table>\n",
       "</div>"
      ],
      "text/plain": [
       "  Mouse ID  Timepoint  count\n",
       "0     g989          0      2\n",
       "1     g989          5      2\n",
       "2     g989         10      2\n",
       "3     g989         15      2\n",
       "4     g989         20      2"
      ]
     },
     "execution_count": 79,
     "metadata": {},
     "output_type": "execute_result"
    }
   ],
   "source": [
    "# Getting the duplicate mice by ID number that shows up for Mouse ID and Timepoint. \n",
    "combined_groupby = combined_data.groupby([\"Mouse ID\", \"Timepoint\"])[\"Timepoint\"].agg(['count'])\n",
    "duplicates = combined_groupby.loc[combined_groupby['count'] > 1].reset_index()\n",
    "duplicates.head(100)"
   ]
  },
  {
   "cell_type": "code",
   "execution_count": 67,
   "metadata": {},
   "outputs": [
    {
     "data": {
      "text/html": [
       "<div>\n",
       "<style scoped>\n",
       "    .dataframe tbody tr th:only-of-type {\n",
       "        vertical-align: middle;\n",
       "    }\n",
       "\n",
       "    .dataframe tbody tr th {\n",
       "        vertical-align: top;\n",
       "    }\n",
       "\n",
       "    .dataframe thead th {\n",
       "        text-align: right;\n",
       "    }\n",
       "</style>\n",
       "<table border=\"1\" class=\"dataframe\">\n",
       "  <thead>\n",
       "    <tr style=\"text-align: right;\">\n",
       "      <th></th>\n",
       "      <th>Mouse ID</th>\n",
       "      <th>Drug Regimen</th>\n",
       "      <th>Sex</th>\n",
       "      <th>Age_months</th>\n",
       "      <th>Weight (g)</th>\n",
       "      <th>Timepoint</th>\n",
       "      <th>Tumor Volume (mm3)</th>\n",
       "      <th>Metastatic Sites</th>\n",
       "    </tr>\n",
       "  </thead>\n",
       "  <tbody>\n",
       "    <tr>\n",
       "      <th>908</th>\n",
       "      <td>g989</td>\n",
       "      <td>Propriva</td>\n",
       "      <td>Female</td>\n",
       "      <td>21</td>\n",
       "      <td>26</td>\n",
       "      <td>0</td>\n",
       "      <td>45.000000</td>\n",
       "      <td>0</td>\n",
       "    </tr>\n",
       "    <tr>\n",
       "      <th>909</th>\n",
       "      <td>g989</td>\n",
       "      <td>Propriva</td>\n",
       "      <td>Female</td>\n",
       "      <td>21</td>\n",
       "      <td>26</td>\n",
       "      <td>0</td>\n",
       "      <td>45.000000</td>\n",
       "      <td>0</td>\n",
       "    </tr>\n",
       "    <tr>\n",
       "      <th>910</th>\n",
       "      <td>g989</td>\n",
       "      <td>Propriva</td>\n",
       "      <td>Female</td>\n",
       "      <td>21</td>\n",
       "      <td>26</td>\n",
       "      <td>5</td>\n",
       "      <td>48.786801</td>\n",
       "      <td>0</td>\n",
       "    </tr>\n",
       "    <tr>\n",
       "      <th>911</th>\n",
       "      <td>g989</td>\n",
       "      <td>Propriva</td>\n",
       "      <td>Female</td>\n",
       "      <td>21</td>\n",
       "      <td>26</td>\n",
       "      <td>5</td>\n",
       "      <td>47.570392</td>\n",
       "      <td>0</td>\n",
       "    </tr>\n",
       "    <tr>\n",
       "      <th>912</th>\n",
       "      <td>g989</td>\n",
       "      <td>Propriva</td>\n",
       "      <td>Female</td>\n",
       "      <td>21</td>\n",
       "      <td>26</td>\n",
       "      <td>10</td>\n",
       "      <td>51.745156</td>\n",
       "      <td>0</td>\n",
       "    </tr>\n",
       "    <tr>\n",
       "      <th>913</th>\n",
       "      <td>g989</td>\n",
       "      <td>Propriva</td>\n",
       "      <td>Female</td>\n",
       "      <td>21</td>\n",
       "      <td>26</td>\n",
       "      <td>10</td>\n",
       "      <td>49.880528</td>\n",
       "      <td>0</td>\n",
       "    </tr>\n",
       "    <tr>\n",
       "      <th>914</th>\n",
       "      <td>g989</td>\n",
       "      <td>Propriva</td>\n",
       "      <td>Female</td>\n",
       "      <td>21</td>\n",
       "      <td>26</td>\n",
       "      <td>15</td>\n",
       "      <td>51.325852</td>\n",
       "      <td>1</td>\n",
       "    </tr>\n",
       "    <tr>\n",
       "      <th>915</th>\n",
       "      <td>g989</td>\n",
       "      <td>Propriva</td>\n",
       "      <td>Female</td>\n",
       "      <td>21</td>\n",
       "      <td>26</td>\n",
       "      <td>15</td>\n",
       "      <td>53.442020</td>\n",
       "      <td>0</td>\n",
       "    </tr>\n",
       "    <tr>\n",
       "      <th>916</th>\n",
       "      <td>g989</td>\n",
       "      <td>Propriva</td>\n",
       "      <td>Female</td>\n",
       "      <td>21</td>\n",
       "      <td>26</td>\n",
       "      <td>20</td>\n",
       "      <td>55.326122</td>\n",
       "      <td>1</td>\n",
       "    </tr>\n",
       "    <tr>\n",
       "      <th>917</th>\n",
       "      <td>g989</td>\n",
       "      <td>Propriva</td>\n",
       "      <td>Female</td>\n",
       "      <td>21</td>\n",
       "      <td>26</td>\n",
       "      <td>20</td>\n",
       "      <td>54.657650</td>\n",
       "      <td>1</td>\n",
       "    </tr>\n",
       "  </tbody>\n",
       "</table>\n",
       "</div>"
      ],
      "text/plain": [
       "    Mouse ID Drug Regimen     Sex  Age_months  Weight (g)  Timepoint  \\\n",
       "908     g989     Propriva  Female          21          26          0   \n",
       "909     g989     Propriva  Female          21          26          0   \n",
       "910     g989     Propriva  Female          21          26          5   \n",
       "911     g989     Propriva  Female          21          26          5   \n",
       "912     g989     Propriva  Female          21          26         10   \n",
       "913     g989     Propriva  Female          21          26         10   \n",
       "914     g989     Propriva  Female          21          26         15   \n",
       "915     g989     Propriva  Female          21          26         15   \n",
       "916     g989     Propriva  Female          21          26         20   \n",
       "917     g989     Propriva  Female          21          26         20   \n",
       "\n",
       "     Tumor Volume (mm3)  Metastatic Sites  \n",
       "908           45.000000                 0  \n",
       "909           45.000000                 0  \n",
       "910           48.786801                 0  \n",
       "911           47.570392                 0  \n",
       "912           51.745156                 0  \n",
       "913           49.880528                 0  \n",
       "914           51.325852                 1  \n",
       "915           53.442020                 0  \n",
       "916           55.326122                 1  \n",
       "917           54.657650                 1  "
      ]
     },
     "execution_count": 67,
     "metadata": {},
     "output_type": "execute_result"
    }
   ],
   "source": [
    "# Optional: Get all the data for the duplicate mouse ID. \n",
    "dup_mouse_id = duplicates[\"Mouse ID\"].unique()\n",
    "dup_timepoint = duplicates[\"Timepoint\"].unique()\n",
    "\n",
    "all_data_duplicate = combined_data.loc[combined_data[\"Mouse ID\"].isin(dup_mouse_id) & combined_data[\"Timepoint\"].isin(dup_timepoint)]\n",
    "all_data_duplicate.head(100)"
   ]
  },
  {
   "cell_type": "code",
   "execution_count": 72,
   "metadata": {},
   "outputs": [],
   "source": [
    "# Create a clean DataFrame by dropping the duplicate mouse by its ID.\n",
    "data_cleaned = combined_data.drop_duplicates(subset=[\"Mouse ID\", \"Timepoint\"], keep='first', inplace=False)\n",
    "data_cleaned.head(3)"
   ]
  },
  {
   "cell_type": "code",
   "execution_count": 82,
   "metadata": {},
   "outputs": [
    {
     "name": "stdout",
     "output_type": "stream",
     "text": [
      "Number of duplicate mice: 5\n",
      "Number of mice in the original DataFrame: 1893\n",
      "Number of mice in the cleaned DataFrame: 1888\n"
     ]
    }
   ],
   "source": [
    "# Checking the number of mice in the clean DataFrame.\n",
    "print(f\"Number of duplicate mice: {len(duplicates)}\")\n",
    "print(f\"Number of mice in the original DataFrame: {len(combined_data)}\")\n",
    "print(f\"Number of mice in the cleaned DataFrame: {len(data_cleaned)}\")"
   ]
  },
  {
   "cell_type": "markdown",
   "metadata": {},
   "source": [
    "## Summary Statistics"
   ]
  },
  {
   "cell_type": "code",
   "execution_count": 139,
   "metadata": {},
   "outputs": [
    {
     "data": {
      "text/html": [
       "<div>\n",
       "<style scoped>\n",
       "    .dataframe tbody tr th:only-of-type {\n",
       "        vertical-align: middle;\n",
       "    }\n",
       "\n",
       "    .dataframe tbody tr th {\n",
       "        vertical-align: top;\n",
       "    }\n",
       "\n",
       "    .dataframe thead th {\n",
       "        text-align: right;\n",
       "    }\n",
       "</style>\n",
       "<table border=\"1\" class=\"dataframe\">\n",
       "  <thead>\n",
       "    <tr style=\"text-align: right;\">\n",
       "      <th></th>\n",
       "      <th></th>\n",
       "      <th>mean</th>\n",
       "      <th>median</th>\n",
       "      <th>var</th>\n",
       "      <th>std</th>\n",
       "      <th>sem</th>\n",
       "    </tr>\n",
       "    <tr>\n",
       "      <th>Drug Regimen</th>\n",
       "      <th>Timepoint</th>\n",
       "      <th></th>\n",
       "      <th></th>\n",
       "      <th></th>\n",
       "      <th></th>\n",
       "      <th></th>\n",
       "    </tr>\n",
       "  </thead>\n",
       "  <tbody>\n",
       "    <tr>\n",
       "      <th rowspan=\"5\" valign=\"top\">Capomulin</th>\n",
       "      <th>0</th>\n",
       "      <td>45.000000</td>\n",
       "      <td>45.000000</td>\n",
       "      <td>0.000000</td>\n",
       "      <td>0.000000</td>\n",
       "      <td>0.000000</td>\n",
       "    </tr>\n",
       "    <tr>\n",
       "      <th>5</th>\n",
       "      <td>44.266086</td>\n",
       "      <td>45.597064</td>\n",
       "      <td>5.030889</td>\n",
       "      <td>2.242964</td>\n",
       "      <td>0.448593</td>\n",
       "    </tr>\n",
       "    <tr>\n",
       "      <th>10</th>\n",
       "      <td>43.084291</td>\n",
       "      <td>43.421014</td>\n",
       "      <td>12.344133</td>\n",
       "      <td>3.513422</td>\n",
       "      <td>0.702684</td>\n",
       "    </tr>\n",
       "    <tr>\n",
       "      <th>15</th>\n",
       "      <td>42.064317</td>\n",
       "      <td>42.798160</td>\n",
       "      <td>16.878693</td>\n",
       "      <td>4.108369</td>\n",
       "      <td>0.838617</td>\n",
       "    </tr>\n",
       "    <tr>\n",
       "      <th>20</th>\n",
       "      <td>40.716325</td>\n",
       "      <td>40.716428</td>\n",
       "      <td>19.035028</td>\n",
       "      <td>4.362915</td>\n",
       "      <td>0.909731</td>\n",
       "    </tr>\n",
       "  </tbody>\n",
       "</table>\n",
       "</div>"
      ],
      "text/plain": [
       "                             mean     median        var       std       sem\n",
       "Drug Regimen Timepoint                                                     \n",
       "Capomulin    0          45.000000  45.000000   0.000000  0.000000  0.000000\n",
       "             5          44.266086  45.597064   5.030889  2.242964  0.448593\n",
       "             10         43.084291  43.421014  12.344133  3.513422  0.702684\n",
       "             15         42.064317  42.798160  16.878693  4.108369  0.838617\n",
       "             20         40.716325  40.716428  19.035028  4.362915  0.909731"
      ]
     },
     "execution_count": 139,
     "metadata": {},
     "output_type": "execute_result"
    }
   ],
   "source": [
    "# Generate a summary statistics table of mean, median, variance, standard deviation, and SEM of the tumor volume for each regimen\n",
    "\n",
    "# Use groupby and summary statistical methods to calculate the following properties of each drug regimen: \n",
    "# mean, median, variance, standard deviation, and SEM of the tumor volume. \n",
    "mean_stat = data_cleaned.groupby([\"Drug Regimen\", \"Timepoint\"])[\"Tumor Volume (mm3)\"].mean()\n",
    "median_stat = data_cleaned.groupby([\"Drug Regimen\", \"Timepoint\"])[\"Tumor Volume (mm3)\"].median()\n",
    "var_stat = data_cleaned.groupby([\"Drug Regimen\", \"Timepoint\"])[\"Tumor Volume (mm3)\"].var()\n",
    "std_stat = data_cleaned.groupby([\"Drug Regimen\", \"Timepoint\"])[\"Tumor Volume (mm3)\"].std()\n",
    "sem_stat = data_cleaned.groupby([\"Drug Regimen\", \"Timepoint\"])[\"Tumor Volume (mm3)\"].sem()\n",
    "\n",
    "# Assemble the resulting series into a single summary dataframe.\n",
    "summary_df = pd.DataFrame({\n",
    "    \"mean\": mean_stat,\n",
    "    \"median\": median_stat,\n",
    "    \"var\": var_stat,\n",
    "    \"std\": std_stat,\n",
    "    \"sem\": sem_stat\n",
    "})\n",
    "\n",
    "summary_df.head()"
   ]
  },
  {
   "cell_type": "code",
   "execution_count": 137,
   "metadata": {},
   "outputs": [
    {
     "data": {
      "text/html": [
       "<div>\n",
       "<style scoped>\n",
       "    .dataframe tbody tr th:only-of-type {\n",
       "        vertical-align: middle;\n",
       "    }\n",
       "\n",
       "    .dataframe tbody tr th {\n",
       "        vertical-align: top;\n",
       "    }\n",
       "\n",
       "    .dataframe thead th {\n",
       "        text-align: right;\n",
       "    }\n",
       "</style>\n",
       "<table border=\"1\" class=\"dataframe\">\n",
       "  <thead>\n",
       "    <tr style=\"text-align: right;\">\n",
       "      <th></th>\n",
       "      <th></th>\n",
       "      <th>mean</th>\n",
       "      <th>median</th>\n",
       "      <th>var</th>\n",
       "      <th>std</th>\n",
       "      <th>sem</th>\n",
       "    </tr>\n",
       "    <tr>\n",
       "      <th>Drug Regimen</th>\n",
       "      <th>Timepoint</th>\n",
       "      <th></th>\n",
       "      <th></th>\n",
       "      <th></th>\n",
       "      <th></th>\n",
       "      <th></th>\n",
       "    </tr>\n",
       "  </thead>\n",
       "  <tbody>\n",
       "    <tr>\n",
       "      <th rowspan=\"5\" valign=\"top\">Capomulin</th>\n",
       "      <th>0</th>\n",
       "      <td>45.000000</td>\n",
       "      <td>45.000000</td>\n",
       "      <td>0.000000</td>\n",
       "      <td>0.000000</td>\n",
       "      <td>0.000000</td>\n",
       "    </tr>\n",
       "    <tr>\n",
       "      <th>5</th>\n",
       "      <td>44.266086</td>\n",
       "      <td>45.597064</td>\n",
       "      <td>5.030889</td>\n",
       "      <td>2.242964</td>\n",
       "      <td>0.448593</td>\n",
       "    </tr>\n",
       "    <tr>\n",
       "      <th>10</th>\n",
       "      <td>43.084291</td>\n",
       "      <td>43.421014</td>\n",
       "      <td>12.344133</td>\n",
       "      <td>3.513422</td>\n",
       "      <td>0.702684</td>\n",
       "    </tr>\n",
       "    <tr>\n",
       "      <th>15</th>\n",
       "      <td>42.064317</td>\n",
       "      <td>42.798160</td>\n",
       "      <td>16.878693</td>\n",
       "      <td>4.108369</td>\n",
       "      <td>0.838617</td>\n",
       "    </tr>\n",
       "    <tr>\n",
       "      <th>20</th>\n",
       "      <td>40.716325</td>\n",
       "      <td>40.716428</td>\n",
       "      <td>19.035028</td>\n",
       "      <td>4.362915</td>\n",
       "      <td>0.909731</td>\n",
       "    </tr>\n",
       "  </tbody>\n",
       "</table>\n",
       "</div>"
      ],
      "text/plain": [
       "                             mean     median        var       std       sem\n",
       "Drug Regimen Timepoint                                                     \n",
       "Capomulin    0          45.000000  45.000000   0.000000  0.000000  0.000000\n",
       "             5          44.266086  45.597064   5.030889  2.242964  0.448593\n",
       "             10         43.084291  43.421014  12.344133  3.513422  0.702684\n",
       "             15         42.064317  42.798160  16.878693  4.108369  0.838617\n",
       "             20         40.716325  40.716428  19.035028  4.362915  0.909731"
      ]
     },
     "execution_count": 137,
     "metadata": {},
     "output_type": "execute_result"
    }
   ],
   "source": [
    "# Generate a summary statistics table of mean, median, variance, standard deviation, and SEM of the tumor volume for each regimen\n",
    "\n",
    "# Using the aggregation method, produce the same summary statistics in a single line\n",
    "summary_sts = data_cleaned.groupby([\"Drug Regimen\", \"Timepoint\"])[\"Tumor Volume (mm3)\"].agg([\"mean\", \"median\", \"var\", \"std\", \"sem\"])\n",
    "summary_sts.head()"
   ]
  },
  {
   "cell_type": "markdown",
   "metadata": {},
   "source": [
    "## Bar and Pie Charts"
   ]
  },
  {
   "cell_type": "code",
   "execution_count": 169,
   "metadata": {},
   "outputs": [
    {
     "data": {
      "text/plain": [
       "<matplotlib.axes._subplots.AxesSubplot at 0x2c68b5a3898>"
      ]
     },
     "execution_count": 169,
     "metadata": {},
     "output_type": "execute_result"
    },
    {
     "data": {
      "image/png": "[encoded data removed]",
      "text/plain": [
       "<Figure size 792x360 with 1 Axes>"
      ]
     },
     "metadata": {
      "needs_background": "light"
     },
     "output_type": "display_data"
    }
   ],
   "source": [
    "# Generate a bar plot showing the total number of measurements taken on each drug regimen using pandas.\n",
    "measurements = data_cleaned.groupby([\"Drug Regimen\"])[\"Tumor Volume (mm3)\"].sum().reset_index()\n",
    "measurements = measurements.rename(columns={\"Tumor Volume (mm3)\":\"Total number of measurements\"})\n",
    "\n",
    "title = \"Total number of measurements taken on each drug regimen\"\n",
    "measurements.plot(kind=\"bar\", x=\"Drug Regimen\", y=\"Total number of measurements\", figsize=(11,5), title=title)\n"
   ]
  },
  {
   "cell_type": "code",
   "execution_count": 171,
   "metadata": {},
   "outputs": [
    {
     "data": {
      "image/png": "[encoded data removed]",
      "text/plain": [
       "<Figure size 792x360 with 1 Axes>"
      ]
     },
     "metadata": {
      "needs_background": "light"
     },
     "output_type": "display_data"
    }
   ],
   "source": [
    "# Generate a bar plot showing the total number of measurements taken on each drug regimen using pyplot.\n",
    "\n",
    "plt.figure(figsize=(11, 5))\n",
    "plt.title(\"Total number of measurements taken on each drug regimen\")\n",
    "plt.bar(measurements[\"Drug Regimen\"], measurements[\"Total number of measurements\"], color='r')\n",
    "plt.xlabel(\"Drug Regimen\")\n",
    "plt.ylabel(\"Total number of measurements\")\n",
    "plt.show()"
   ]
  },
  {
   "cell_type": "code",
   "execution_count": 236,
   "metadata": {},
   "outputs": [
    {
     "data": {
      "text/plain": [
       "<matplotlib.axes._subplots.AxesSubplot at 0x2c68b286470>"
      ]
     },
     "execution_count": 236,
     "metadata": {},
     "output_type": "execute_result"
    },
    {
     "data": {
      "image/png": "[encoded data removed]",
      "text/plain": [
       "<Figure size 576x576 with 1 Axes>"
      ]
     },
     "metadata": {},
     "output_type": "display_data"
    }
   ],
   "source": [
    "# Generate a pie plot showing the distribution of female versus male mice using pandas\n",
    "data_cleaned_by_id = combined_data.drop_duplicates(subset=[\"Mouse ID\"], keep='first', inplace=False)\n",
    "\n",
    "grouped_by_id = data_cleaned_by_id.groupby([\"Sex\"])[\"Sex\"].agg([\"count\"])\n",
    "grouped_by_id = grouped_by_id.rename(columns={\"count\":\"Total\"})\n",
    "\n",
    "grouped_by_id.plot(kind=\"pie\", x=\"Sex\", y=\"Total\", grid=True, figsize=(8,8), title=\"Distribution of female versus male mice\")"
   ]
  },
  {
   "cell_type": "code",
   "execution_count": 218,
   "metadata": {},
   "outputs": [
    {
     "data": {
      "image/png": "[encoded data removed]",
      "text/plain": [
       "<Figure size 432x288 with 1 Axes>"
      ]
     },
     "metadata": {},
     "output_type": "display_data"
    }
   ],
   "source": [
    "# Generate a pie plot showing the distribution of female versus male mice using pyplot\n",
    "data_cleaned_by_id = combined_data.drop_duplicates(subset=[\"Mouse ID\"], keep='first', inplace=False)\n",
    "\n",
    "grouped_by_id = data_cleaned_by_id.groupby([\"Sex\"])[\"Sex\"].agg([\"count\"])\n",
    "grouped_by_id = grouped_by_id.rename(columns={\"count\":\"Total\"}).reset_index()\n",
    "\n",
    "plt.pie(grouped_by_id[\"Total\"].values.tolist(), labels=grouped_by_id[\"Sex\"].values.tolist(), shadow=True, startangle=140)\n",
    "plt.show()\n"
   ]
  },
  {
   "cell_type": "markdown",
   "metadata": {},
   "source": [
    "## Quartiles, Outliers and Boxplots"
   ]
  },
  {
   "cell_type": "code",
   "execution_count": 380,
   "metadata": {},
   "outputs": [
    {
     "data": {
      "text/html": [
       "<div>\n",
       "<style scoped>\n",
       "    .dataframe tbody tr th:only-of-type {\n",
       "        vertical-align: middle;\n",
       "    }\n",
       "\n",
       "    .dataframe tbody tr th {\n",
       "        vertical-align: top;\n",
       "    }\n",
       "\n",
       "    .dataframe thead th {\n",
       "        text-align: right;\n",
       "    }\n",
       "</style>\n",
       "<table border=\"1\" class=\"dataframe\">\n",
       "  <thead>\n",
       "    <tr style=\"text-align: right;\">\n",
       "      <th></th>\n",
       "      <th>Mouse ID</th>\n",
       "      <th>Drug Regimen</th>\n",
       "      <th>Sex</th>\n",
       "      <th>Age_months</th>\n",
       "      <th>Weight (g)</th>\n",
       "      <th>Timepoint</th>\n",
       "      <th>Final Tumor Volume (mm3)</th>\n",
       "      <th>Metastatic Sites</th>\n",
       "    </tr>\n",
       "  </thead>\n",
       "  <tbody>\n",
       "    <tr>\n",
       "      <th>19</th>\n",
       "      <td>s185</td>\n",
       "      <td>Capomulin</td>\n",
       "      <td>Female</td>\n",
       "      <td>3</td>\n",
       "      <td>17</td>\n",
       "      <td>45</td>\n",
       "      <td>23.343598</td>\n",
       "      <td>1</td>\n",
       "    </tr>\n",
       "    <tr>\n",
       "      <th>29</th>\n",
       "      <td>x401</td>\n",
       "      <td>Capomulin</td>\n",
       "      <td>Female</td>\n",
       "      <td>16</td>\n",
       "      <td>15</td>\n",
       "      <td>45</td>\n",
       "      <td>28.484033</td>\n",
       "      <td>0</td>\n",
       "    </tr>\n",
       "    <tr>\n",
       "      <th>39</th>\n",
       "      <td>m601</td>\n",
       "      <td>Capomulin</td>\n",
       "      <td>Male</td>\n",
       "      <td>22</td>\n",
       "      <td>17</td>\n",
       "      <td>45</td>\n",
       "      <td>28.430964</td>\n",
       "      <td>1</td>\n",
       "    </tr>\n",
       "    <tr>\n",
       "      <th>64</th>\n",
       "      <td>f966</td>\n",
       "      <td>Capomulin</td>\n",
       "      <td>Male</td>\n",
       "      <td>16</td>\n",
       "      <td>17</td>\n",
       "      <td>20</td>\n",
       "      <td>30.485985</td>\n",
       "      <td>0</td>\n",
       "    </tr>\n",
       "    <tr>\n",
       "      <th>104</th>\n",
       "      <td>u364</td>\n",
       "      <td>Capomulin</td>\n",
       "      <td>Male</td>\n",
       "      <td>18</td>\n",
       "      <td>17</td>\n",
       "      <td>45</td>\n",
       "      <td>31.023923</td>\n",
       "      <td>3</td>\n",
       "    </tr>\n",
       "  </tbody>\n",
       "</table>\n",
       "</div>"
      ],
      "text/plain": [
       "    Mouse ID Drug Regimen     Sex  Age_months  Weight (g)  Timepoint  \\\n",
       "19      s185    Capomulin  Female           3          17         45   \n",
       "29      x401    Capomulin  Female          16          15         45   \n",
       "39      m601    Capomulin    Male          22          17         45   \n",
       "64      f966    Capomulin    Male          16          17         20   \n",
       "104     u364    Capomulin    Male          18          17         45   \n",
       "\n",
       "     Final Tumor Volume (mm3)  Metastatic Sites  \n",
       "19                  23.343598                 1  \n",
       "29                  28.484033                 0  \n",
       "39                  28.430964                 1  \n",
       "64                  30.485985                 0  \n",
       "104                 31.023923                 3  "
      ]
     },
     "execution_count": 380,
     "metadata": {},
     "output_type": "execute_result"
    }
   ],
   "source": [
    "# Calculate the final tumor volume of each mouse across four of the treatment regimens:  \n",
    "# Capomulin, Ramicane, Infubinol, and Ceftamin\n",
    "sub_cleaned_group = data_cleaned.loc[data_cleaned[\"Drug Regimen\"].isin([\"Capomulin\", \"Ramicane\", \"Infubinol\", \"Ceftamin\"])]\n",
    "final_tumor_vol = sub_cleaned_group.groupby([\"Mouse ID\", \"Drug Regimen\"])[\"Tumor Volume (mm3)\"].sum().reset_index()\n",
    "final_tumor_vol = final_tumor_vol.rename(columns={\"Tumor Volume (mm3)\" : \"Total Tumor Volume (mm3)\"})\n",
    "\n",
    "# Start by getting the last (greatest) timepoint for each mouse\n",
    "last_timepoint = sub_cleaned_group.drop_duplicates(subset=[\"Mouse ID\"], keep='last', inplace=False)\n",
    "last_timepoint = last_timepoint.rename(columns={\"Tumor Volume (mm3)\" : \"Final Tumor Volume (mm3)\"})\n",
    "\n",
    "# Merge this group df with the original dataframe to get the tumor volume at the last timepoint\n",
    "final_merge = last_timepoint.merge(final_tumor_vol, on=[\"Mouse ID\", \"Drug Regimen\"])\n",
    "\n",
    "final_merge.head()\n",
    "\n",
    "# -------------------------------------------------------------------------------------------------- #\n",
    "\n",
    "capomulin_data = data_cleaned.loc[data_cleaned[\"Drug Regimen\"].isin([\"Capomulin\"])]\n",
    "capomulin_final_vol = capomulin_data.drop_duplicates(subset=[\"Mouse ID\"], keep='last', inplace=False)\n",
    "capomulin_final_vol = capomulin_final_vol.rename(columns={\"Tumor Volume (mm3)\" : \"Final Tumor Volume (mm3)\"})\n",
    "\n",
    "ramicane_data = data_cleaned.loc[data_cleaned[\"Drug Regimen\"].isin([\"Ramicane\"])]\n",
    "ramicane_final_vol = ramicane_data.drop_duplicates(subset=[\"Mouse ID\"], keep='last', inplace=False)\n",
    "ramicane_final_vol = ramicane_final_vol.rename(columns={\"Tumor Volume (mm3)\" : \"Final Tumor Volume (mm3)\"})\n",
    "\n",
    "infubinol_data = data_cleaned.loc[data_cleaned[\"Drug Regimen\"].isin([\"Infubinol\"])]\n",
    "infubinol_final_vol = infubinol_data.drop_duplicates(subset=[\"Mouse ID\"], keep='last', inplace=False)\n",
    "infubinol_final_vol = infubinol_final_vol.rename(columns={\"Tumor Volume (mm3)\" : \"Final Tumor Volume (mm3)\"})\n",
    "\n",
    "ceftamin_data = data_cleaned.loc[data_cleaned[\"Drug Regimen\"].isin([\"Ceftamin\"])]\n",
    "ceftamin_final_vol = ceftamin_data.drop_duplicates(subset=[\"Mouse ID\"], keep='last', inplace=False)\n",
    "ceftamin_final_vol = ceftamin_final_vol.rename(columns={\"Tumor Volume (mm3)\" : \"Final Tumor Volume (mm3)\"})\n",
    "\n",
    "capomulin_final_vol.head()"
   ]
  },
  {
   "cell_type": "code",
   "execution_count": 404,
   "metadata": {},
   "outputs": [
    {
     "name": "stdout",
     "output_type": "stream",
     "text": [
      "Values below Lower Bounds or above Upper Bounds could be outliers\n"
     ]
    },
    {
     "data": {
      "text/html": [
       "<div>\n",
       "<style scoped>\n",
       "    .dataframe tbody tr th:only-of-type {\n",
       "        vertical-align: middle;\n",
       "    }\n",
       "\n",
       "    .dataframe tbody tr th {\n",
       "        vertical-align: top;\n",
       "    }\n",
       "\n",
       "    .dataframe thead th {\n",
       "        text-align: right;\n",
       "    }\n",
       "</style>\n",
       "<table border=\"1\" class=\"dataframe\">\n",
       "  <thead>\n",
       "    <tr style=\"text-align: right;\">\n",
       "      <th></th>\n",
       "      <th>IQR</th>\n",
       "      <th>Lower Bounds</th>\n",
       "      <th>Upper Bounds</th>\n",
       "    </tr>\n",
       "  </thead>\n",
       "  <tbody>\n",
       "    <tr>\n",
       "      <th>Capomulin</th>\n",
       "      <td>7.781863</td>\n",
       "      <td>20.704562</td>\n",
       "      <td>28.486425</td>\n",
       "    </tr>\n",
       "    <tr>\n",
       "      <th>Ramicane</th>\n",
       "      <td>9.098537</td>\n",
       "      <td>17.912664</td>\n",
       "      <td>27.011201</td>\n",
       "    </tr>\n",
       "    <tr>\n",
       "      <th>Infubinol</th>\n",
       "      <td>11.477135</td>\n",
       "      <td>36.832905</td>\n",
       "      <td>48.310040</td>\n",
       "    </tr>\n",
       "    <tr>\n",
       "      <th>Ceftamin</th>\n",
       "      <td>15.577752</td>\n",
       "      <td>25.355450</td>\n",
       "      <td>40.933202</td>\n",
       "    </tr>\n",
       "  </tbody>\n",
       "</table>\n",
       "</div>"
      ],
      "text/plain": [
       "                 IQR  Lower Bounds  Upper Bounds\n",
       "Capomulin   7.781863     20.704562     28.486425\n",
       "Ramicane    9.098537     17.912664     27.011201\n",
       "Infubinol  11.477135     36.832905     48.310040\n",
       "Ceftamin   15.577752     25.355450     40.933202"
      ]
     },
     "execution_count": 404,
     "metadata": {},
     "output_type": "execute_result"
    }
   ],
   "source": [
    "# Put treatments into a list for for loop (and later for plot labels)\n",
    "treatemnts = [\"Capomulin\", \"Ramicane\", \"Infubinol\", \"Ceftamin\"]\n",
    "\n",
    "# Create empty list to fill with tumor vol data (for plotting)\n",
    "regimens_final_vol = []\n",
    "\n",
    "# Calculate the IQR and quantitatively determine if there are any potential outliers. \n",
    "capomulin_quartiles = capomulin_final_vol[\"Final Tumor Volume (mm3)\"].quantile([.25,.5,.75])\n",
    "capomulin_lowerq = capomulin_quartiles[0.25]\n",
    "capomulin_upperq = capomulin_quartiles[0.75]\n",
    "capomulin_iqr = capomulin_upperq - capomulin_lowerq\n",
    "\n",
    "ramicane_quartiles = ramicane_final_vol[\"Final Tumor Volume (mm3)\"].quantile([.25,.5,.75])\n",
    "ramicane_lowerq = ramicane_quartiles[0.25]\n",
    "ramicane_upperq = ramicane_quartiles[0.75]\n",
    "ramicane_iqr = ramicane_upperq - ramicane_lowerq\n",
    "\n",
    "infubinol_quartiles = infubinol_final_vol[\"Final Tumor Volume (mm3)\"].quantile([.25,.5,.75])\n",
    "infubinol_lowerq = infubinol_quartiles[0.25]\n",
    "infubinol_upperq = infubinol_quartiles[0.75]\n",
    "infubinol_iqr = infubinol_upperq - infubinol_lowerq\n",
    "\n",
    "ceftamin_quartiles = ceftamin_final_vol[\"Final Tumor Volume (mm3)\"].quantile([.25,.5,.75])\n",
    "ceftamin_lowerq = ceftamin_quartiles[0.25]\n",
    "ceftamin_upperq = ceftamin_quartiles[0.75]\n",
    "ceftamin_iqr = ceftamin_upperq - ceftamin_lowerq\n",
    "\n",
    "# Determine outliers using upper and lower bounds\n",
    "summary_outliers = pd.DataFrame({\n",
    "    \"IQR\": {\n",
    "        \"Capomulin\": capomulin_iqr,\n",
    "        \"Ramicane\": ramicane_iqr,\n",
    "        \"Infubinol\": infubinol_iqr,\n",
    "        \"Ceftamin\": ceftamin_iqr\n",
    "    },\n",
    "    \"Lower Bounds\": {\n",
    "        \"Capomulin\": capomulin_lowerq - (1.5*capomulin_iqr),\n",
    "        \"Ramicane\": ramicane_lowerq - (1.5*ramicane_iqr),\n",
    "        \"Infubinol\": infubinol_lowerq - (1.5*infubinol_iqr),\n",
    "        \"Ceftamin\": ceftamin_lowerq - (1.5*ceftamin_iqr)\n",
    "    },\n",
    "    \"Upper Bounds\": {\n",
    "        \"Capomulin\": capomulin_upperq - (1.5*capomulin_iqr),\n",
    "        \"Ramicane\": ramicane_upperq - (1.5*ramicane_iqr),\n",
    "        \"Infubinol\": infubinol_upperq - (1.5*infubinol_iqr),\n",
    "        \"Ceftamin\": ceftamin_upperq - (1.5*ceftamin_iqr)\n",
    "    }\n",
    "})\n",
    "\n",
    "# Locate the rows which contain mice on each drug and get the tumor volumes\n",
    "# add subset\n",
    "regimens_final_vol.append(capomulin_final_vol[\"Final Tumor Volume (mm3)\"].tolist())\n",
    "regimens_final_vol.append(ramicane_final_vol[\"Final Tumor Volume (mm3)\"].tolist())\n",
    "regimens_final_vol.append(infubinol_final_vol[\"Final Tumor Volume (mm3)\"].tolist())\n",
    "regimens_final_vol.append(ceftamin_final_vol[\"Final Tumor Volume (mm3)\"].tolist())\n",
    "\n",
    "\n",
    "print(f\"Values below Lower Bounds or above Upper Bounds could be outliers\")\n",
    "summary_outliers.head()"
   ]
  },
  {
   "cell_type": "code",
   "execution_count": 405,
   "metadata": {},
   "outputs": [
    {
     "data": {
      "image/png": "[encoded data removed]",
      "text/plain": [
       "<Figure size 432x288 with 1 Axes>"
      ]
     },
     "metadata": {
      "needs_background": "light"
     },
     "output_type": "display_data"
    }
   ],
   "source": [
    "# Generate a box plot of the final tumor volume of each mouse across four regimens of interest\n",
    "\n",
    "fig1, ax1 = plt.subplots()\n",
    "ax1.set_title('Final Tumor Volume')\n",
    "ax1.set_xlabel(treatemnts)\n",
    "ax1.set_ylabel('Volume (mm3)')\n",
    "ax1.boxplot(regimens_final_vol)\n",
    "plt.show()\n"
   ]
  },
  {
   "cell_type": "markdown",
   "metadata": {},
   "source": [
    "## Line and Scatter Plots"
   ]
  },
  {
   "cell_type": "code",
   "execution_count": 16,
   "metadata": {},
   "outputs": [],
   "source": [
    "# Generate a line plot of tumor volume vs. time point for a mouse treated with Capomulin\n"
   ]
  },
  {
   "cell_type": "code",
   "execution_count": 17,
   "metadata": {},
   "outputs": [],
   "source": [
    "# Generate a scatter plot of average tumor volume vs. mouse weight for the Capomulin regimen\n"
   ]
  },
  {
   "cell_type": "markdown",
   "metadata": {},
   "source": [
    "## Correlation and Regression"
   ]
  },
  {
   "cell_type": "code",
   "execution_count": 18,
   "metadata": {},
   "outputs": [],
   "source": [
    "# Calculate the correlation coefficient and linear regression model \n",
    "# for mouse weight and average tumor volume for the Capomulin regimen\n"
   ]
  },
  {
   "cell_type": "code",
   "execution_count": 2,
   "metadata": {},
   "outputs": [
    {
     "data": {
      "text/latex": [
       "$$c = \\sqrt{a^2 + b^2}$$\n"
      ],
      "text/plain": [
       "<IPython.core.display.Latex object>"
      ]
     },
     "metadata": {},
     "output_type": "display_data"
    }
   ],
   "source": [
    "%%latex\n",
    "$$c = \\sqrt{a^2 + b^2}$$"
   ]
  },
  {
   "cell_type": "code",
   "execution_count": null,
   "metadata": {},
   "outputs": [],
   "source": []
  }
 ],
 "metadata": {
  "anaconda-cloud": {},
  "kernelspec": {
   "display_name": "Python 3",
   "language": "python",
   "name": "python3"
  },
  "language_info": {
   "codemirror_mode": {
    "name": "ipython",
    "version": 3
   },
   "file_extension": ".py",
   "mimetype": "text/x-python",
   "name": "python",
   "nbconvert_exporter": "python",
   "pygments_lexer": "ipython3",
   "version": "3.6.10"
  }
 },
 "nbformat": 4,
 "nbformat_minor": 4
}
